{
 "cells": [
  {
   "cell_type": "markdown",
   "id": "a03ab5cf",
   "metadata": {},
   "source": [
    "# 00 - Librerías"
   ]
  },
  {
   "cell_type": "code",
   "execution_count": 1,
   "id": "4299550e",
   "metadata": {},
   "outputs": [],
   "source": [
    "import requests\n",
    "import pandas as pd\n",
    "import json\n",
    "from pandas import json_normalize\n",
    "import numpy as np\n",
    "import matplotlib as mpl\n",
    "import matplotlib.pyplot as plt\n",
    "import seaborn as sns\n",
    "import datetime, nltk, warnings\n",
    "import matplotlib.cm as cm\n",
    "import itertools\n",
    "from pathlib import Path\n",
    "from sklearn.preprocessing import StandardScaler\n",
    "from sklearn.cluster import KMeans\n",
    "from sklearn.metrics import silhouette_samples, silhouette_score\n",
    "import statsmodels.api as sm\n",
    "warnings.filterwarnings(\"ignore\")\n",
    "plt.rcParams[\"patch.force_edgecolor\"] = True\n",
    "plt.style.use('fivethirtyeight')\n",
    "mpl.rc('patch', edgecolor = 'dimgray', linewidth=1)\n",
    "%matplotlib inline"
   ]
  },
  {
   "cell_type": "markdown",
   "id": "b161855c",
   "metadata": {},
   "source": [
    "# 01 - Extracción de Datos"
   ]
  },
  {
   "cell_type": "code",
   "execution_count": 2,
   "id": "b7538c4e",
   "metadata": {},
   "outputs": [
    {
     "data": {
      "text/plain": [
       "[{'id': 'MCO1747', 'name': 'Accesorios para Vehículos'},\n",
       " {'id': 'MCO441917', 'name': 'Agro'},\n",
       " {'id': 'MCO1403', 'name': 'Alimentos y Bebidas'},\n",
       " {'id': 'MCO1071', 'name': 'Animales y Mascotas'},\n",
       " {'id': 'MCO1367', 'name': 'Antigüedades y Colecciones'},\n",
       " {'id': 'MCO1368', 'name': 'Arte, Papelería y Mercería'},\n",
       " {'id': 'MCO1384', 'name': 'Bebés'},\n",
       " {'id': 'MCO1246', 'name': 'Belleza y Cuidado Personal'},\n",
       " {'id': 'MCO40433', 'name': 'Boletas para Espectáculos'},\n",
       " {'id': 'MCO1039', 'name': 'Cámaras y Accesorios'},\n",
       " {'id': 'MCO1743', 'name': 'Carros, Motos y Otros'},\n",
       " {'id': 'MCO1051', 'name': 'Celulares y Teléfonos'},\n",
       " {'id': 'MCO1648', 'name': 'Computación'},\n",
       " {'id': 'MCO1144', 'name': 'Consolas y Videojuegos'},\n",
       " {'id': 'MCO172890', 'name': 'Construcción'},\n",
       " {'id': 'MCO1276', 'name': 'Deportes y Fitness'},\n",
       " {'id': 'MCO5726', 'name': 'Electrodomésticos'},\n",
       " {'id': 'MCO1000', 'name': 'Electrónica, Audio y Video'},\n",
       " {'id': 'MCO175794', 'name': 'Herramientas'},\n",
       " {'id': 'MCO1574', 'name': 'Hogar y Muebles'},\n",
       " {'id': 'MCO1499', 'name': 'Industrias y Oficinas'},\n",
       " {'id': 'MCO1459', 'name': 'Inmuebles'},\n",
       " {'id': 'MCO1182', 'name': 'Instrumentos Musicales'},\n",
       " {'id': 'MCO1132', 'name': 'Juegos y Juguetes'},\n",
       " {'id': 'MCO3025', 'name': 'Libros, Revistas y Comics'},\n",
       " {'id': 'MCO1168', 'name': 'Música, Películas y Series'},\n",
       " {'id': 'MCO118204', 'name': 'Recuerdos, Piñatería y Fiestas'},\n",
       " {'id': 'MCO3937', 'name': 'Relojes y Joyas'},\n",
       " {'id': 'MCO1430', 'name': 'Ropa y Accesorios'},\n",
       " {'id': 'MCO180800', 'name': 'Salud y Equipamiento Médico'},\n",
       " {'id': 'MCO1540', 'name': 'Servicios'},\n",
       " {'id': 'MCO1953', 'name': 'Otras categorías'}]"
      ]
     },
     "execution_count": 2,
     "metadata": {},
     "output_type": "execute_result"
    }
   ],
   "source": [
    "cats = requests.get('http://api.mercadolibre.com/sites/MCO/categories')\n",
    "cats.json()"
   ]
  },
  {
   "cell_type": "code",
   "execution_count": 3,
   "id": "c19b240f",
   "metadata": {},
   "outputs": [],
   "source": [
    "cat_id = 'MCO1051'\n",
    "df_list=[]\n",
    "for i in range(0,10):\n",
    "    offset = 100 * i\n",
    "    url = f'http://api.mercadolibre.com/sites/MCO/search?category={cat_id}&offset={offset}'\n",
    "    response = requests.get(url)\n",
    "    items = response.json()\n",
    "    if not items['results']:\n",
    "        break \n",
    "    df = pd.json_normalize(items['results'])\n",
    "    df_list.append(df)"
   ]
  },
  {
   "cell_type": "code",
   "execution_count": 4,
   "id": "24f5e7a8",
   "metadata": {},
   "outputs": [
    {
     "data": {
      "text/plain": [
       "(500, 70)"
      ]
     },
     "execution_count": 4,
     "metadata": {},
     "output_type": "execute_result"
    }
   ],
   "source": [
    "df_final = pd.concat(df_list)\n",
    "df_final.shape"
   ]
  },
  {
   "cell_type": "markdown",
   "id": "ea4ac56a",
   "metadata": {},
   "source": [
    "# 02 - Preparación de Datos"
   ]
  },
  {
   "cell_type": "code",
   "execution_count": 5,
   "id": "7b8e1879",
   "metadata": {},
   "outputs": [
    {
     "name": "stdout",
     "output_type": "stream",
     "text": [
      "['id' 'site_id' 'title' 'price' 'sale_price' 'currency_id'\n",
      " 'available_quantity' 'sold_quantity' 'buying_mode' 'listing_type_id'\n",
      " 'stop_time' 'condition' 'permalink' 'thumbnail' 'thumbnail_id'\n",
      " 'accepts_mercadopago' 'attributes' 'original_price' 'category_id'\n",
      " 'official_store_id' 'domain_id' 'catalog_product_id' 'tags'\n",
      " 'catalog_listing' 'use_thumbnail_id' 'offer_score' 'offer_share'\n",
      " 'match_score' 'winner_item_id' 'melicoin' 'discounts' 'order_backend'\n",
      " 'seller.id' 'seller.permalink' 'seller.registration_date'\n",
      " 'seller.car_dealer' 'seller.real_estate_agency' 'seller.tags' 'prices.id'\n",
      " 'prices.prices' 'prices.presentation.display_currency'\n",
      " 'prices.payment_method_prices' 'prices.reference_prices'\n",
      " 'prices.purchase_discounts' 'installments.quantity' 'installments.amount'\n",
      " 'installments.rate' 'installments.currency_id' 'address.state_id'\n",
      " 'address.state_name' 'address.city_id' 'address.city_name'\n",
      " 'shipping.free_shipping' 'shipping.mode' 'shipping.tags'\n",
      " 'shipping.logistic_type' 'shipping.store_pick_up' 'seller_address.id'\n",
      " 'seller_address.comment' 'seller_address.address_line'\n",
      " 'seller_address.zip_code' 'seller_address.country.id'\n",
      " 'seller_address.country.name' 'seller_address.state.id'\n",
      " 'seller_address.state.name' 'seller_address.city.id'\n",
      " 'seller_address.city.name' 'seller_address.latitude'\n",
      " 'seller_address.longitude' 'differential_pricing.id']\n"
     ]
    },
    {
     "data": {
      "text/plain": [
       "numpy.ndarray"
      ]
     },
     "execution_count": 5,
     "metadata": {},
     "output_type": "execute_result"
    }
   ],
   "source": [
    "#Observar con detalle las columnas contenidas en el dataframe\n",
    "print(df_final.columns.values)\n",
    "type(df_final.columns.values)"
   ]
  },
  {
   "cell_type": "markdown",
   "id": "51cfc046",
   "metadata": {},
   "source": [
    "Verificamos un id en la referencia de la api, para conocer la estructura y contenido de las variables\n",
    "https://api.mercadolibre.com/items/MCO820102385#options\n",
    "\n",
    "Allí encontramos que existen algunas columnas como tipo lista: attributes, tags, prices.prices, prices.payment_method_prices, prices.reference_prices, prices.purchase_discounts, shipping.tags. Estas columnas las vamos a eliminar para estudiar en primera instancia el resto de columnas."
   ]
  },
  {
   "cell_type": "code",
   "execution_count": 6,
   "id": "9228eace",
   "metadata": {},
   "outputs": [],
   "source": [
    "#Eliminar columnas tipo listas\n",
    "df_final = df_final.drop(['attributes','tags','prices.prices','prices.payment_method_prices','prices.reference_prices',\n",
    "                          'prices.purchase_discounts','shipping.tags'], axis=1)"
   ]
  },
  {
   "cell_type": "code",
   "execution_count": 7,
   "id": "185742ae",
   "metadata": {},
   "outputs": [
    {
     "data": {
      "text/plain": [
       "(500, 43)"
      ]
     },
     "execution_count": 7,
     "metadata": {},
     "output_type": "execute_result"
    }
   ],
   "source": [
    "#Verificamos cantidad de valores distintos que existen en cada columna\n",
    "n = pd.DataFrame(df_final.nunique(axis=0))\n",
    "n_1 = n[n[0] == 1]\n",
    "n_1 = n_1.reset_index()\n",
    "n_2 = n_1.drop([0], axis=1)\n",
    "n_2 = n_2.to_numpy().tolist()\n",
    "#Vamos a eliminar aquellas variables donde sólo tengan 1 valor diferente dentro de la columna, esto motivado a que\n",
    "#no nos va a brindar información relevante en el modelado\n",
    "df_final_1 = df_final.drop(['site_id','currency_id','buying_mode','condition','accepts_mercadopago','catalog_listing',\n",
    "                          'seller.car_dealer','seller.real_estate_agency','prices.presentation.display_currency',\n",
    "                          'installments.rate','installments.currency_id','shipping.mode','shipping.store_pick_up',\n",
    "                          'seller_address.id','seller_address.comment','seller_address.address_line','seller_address.zip_code',\n",
    "                          'seller_address.latitude','seller_address.longitude','differential_pricing.id'], axis=1)\n",
    "df_final_1.shape"
   ]
  },
  {
   "cell_type": "code",
   "execution_count": 8,
   "id": "8de7f8b5",
   "metadata": {},
   "outputs": [
    {
     "name": "stdout",
     "output_type": "stream",
     "text": [
      "['id' 'title' 'price' 'sale_price' 'available_quantity' 'sold_quantity'\n",
      " 'listing_type_id' 'stop_time' 'permalink' 'thumbnail' 'thumbnail_id'\n",
      " 'original_price' 'category_id' 'official_store_id' 'domain_id'\n",
      " 'catalog_product_id' 'use_thumbnail_id' 'offer_score' 'offer_share'\n",
      " 'match_score' 'winner_item_id' 'melicoin' 'discounts' 'order_backend'\n",
      " 'seller.id' 'seller.permalink' 'seller.registration_date' 'seller.tags'\n",
      " 'prices.id' 'installments.quantity' 'installments.amount'\n",
      " 'address.state_id' 'address.state_name' 'address.city_id'\n",
      " 'address.city_name' 'shipping.free_shipping' 'shipping.logistic_type'\n",
      " 'seller_address.country.id' 'seller_address.country.name'\n",
      " 'seller_address.state.id' 'seller_address.state.name'\n",
      " 'seller_address.city.id' 'seller_address.city.name']\n"
     ]
    },
    {
     "data": {
      "text/plain": [
       "numpy.ndarray"
      ]
     },
     "execution_count": 8,
     "metadata": {},
     "output_type": "execute_result"
    }
   ],
   "source": [
    "print(df_final_1.columns.values)\n",
    "type(df_final_1.columns.values)"
   ]
  },
  {
   "cell_type": "markdown",
   "id": "1c86d0c4",
   "metadata": {},
   "source": [
    "### Verificación de las variables restantes y evaluar cuáles no son necesarias:\n",
    "Las siguientes columnas se consideran no necesarias por varios motivos:\n",
    "1)No se encontró la explicación de la variable en la documentación del link https://api.mercadolibre.com/items/MCO820102385#options\n",
    "2)No es requerido para el modelo que se quiere plantear\n",
    "3)No tiene información (None)\n",
    "\n",
    "id, title, listing_type_id, stop_time, permalink, thumbnail, thumbnail_id, official_store_id, domain_id, catalog_product_id, seller.permalink, price.id, offer_score, offer_share, match_score, winner_item_id, melicoin, order_backend, seller.registration_date, seller.tags"
   ]
  },
  {
   "cell_type": "code",
   "execution_count": 9,
   "id": "125e568d",
   "metadata": {},
   "outputs": [
    {
     "data": {
      "text/plain": [
       "(500, 23)"
      ]
     },
     "execution_count": 9,
     "metadata": {},
     "output_type": "execute_result"
    }
   ],
   "source": [
    "df_final_1 = df_final_1.drop(['id','title','listing_type_id','stop_time','permalink','thumbnail',\n",
    "                          'thumbnail_id','official_store_id','domain_id','catalog_product_id','seller.permalink',\n",
    "                          'prices.id','offer_score','offer_share','match_score','winner_item_id','melicoin',\n",
    "                          'order_backend','seller.registration_date','seller.tags'], axis=1)\n",
    "df_final_1.shape"
   ]
  },
  {
   "cell_type": "code",
   "execution_count": 10,
   "id": "98e82b58",
   "metadata": {},
   "outputs": [
    {
     "name": "stdout",
     "output_type": "stream",
     "text": [
      "['price' 'sale_price' 'available_quantity' 'sold_quantity'\n",
      " 'original_price' 'category_id' 'use_thumbnail_id' 'discounts' 'seller.id'\n",
      " 'installments.quantity' 'installments.amount' 'address.state_id'\n",
      " 'address.state_name' 'address.city_id' 'address.city_name'\n",
      " 'shipping.free_shipping' 'shipping.logistic_type'\n",
      " 'seller_address.country.id' 'seller_address.country.name'\n",
      " 'seller_address.state.id' 'seller_address.state.name'\n",
      " 'seller_address.city.id' 'seller_address.city.name']\n"
     ]
    },
    {
     "data": {
      "text/plain": [
       "numpy.ndarray"
      ]
     },
     "execution_count": 10,
     "metadata": {},
     "output_type": "execute_result"
    }
   ],
   "source": [
    "print(df_final_1.columns.values)\n",
    "type(df_final_1.columns.values)"
   ]
  },
  {
   "cell_type": "code",
   "execution_count": 11,
   "id": "ac283561",
   "metadata": {},
   "outputs": [
    {
     "data": {
      "text/html": [
       "<div>\n",
       "<style scoped>\n",
       "    .dataframe tbody tr th:only-of-type {\n",
       "        vertical-align: middle;\n",
       "    }\n",
       "\n",
       "    .dataframe tbody tr th {\n",
       "        vertical-align: top;\n",
       "    }\n",
       "\n",
       "    .dataframe thead th {\n",
       "        text-align: right;\n",
       "    }\n",
       "</style>\n",
       "<table border=\"1\" class=\"dataframe\">\n",
       "  <thead>\n",
       "    <tr style=\"text-align: right;\">\n",
       "      <th></th>\n",
       "      <th>price</th>\n",
       "      <th>sale_price</th>\n",
       "      <th>available_quantity</th>\n",
       "      <th>sold_quantity</th>\n",
       "      <th>original_price</th>\n",
       "      <th>category_id</th>\n",
       "      <th>use_thumbnail_id</th>\n",
       "      <th>discounts</th>\n",
       "      <th>seller.id</th>\n",
       "      <th>installments.quantity</th>\n",
       "      <th>...</th>\n",
       "      <th>address.city_id</th>\n",
       "      <th>address.city_name</th>\n",
       "      <th>shipping.free_shipping</th>\n",
       "      <th>shipping.logistic_type</th>\n",
       "      <th>seller_address.country.id</th>\n",
       "      <th>seller_address.country.name</th>\n",
       "      <th>seller_address.state.id</th>\n",
       "      <th>seller_address.state.name</th>\n",
       "      <th>seller_address.city.id</th>\n",
       "      <th>seller_address.city.name</th>\n",
       "    </tr>\n",
       "  </thead>\n",
       "  <tbody>\n",
       "    <tr>\n",
       "      <th>column type</th>\n",
       "      <td>int64</td>\n",
       "      <td>object</td>\n",
       "      <td>int64</td>\n",
       "      <td>int64</td>\n",
       "      <td>float64</td>\n",
       "      <td>object</td>\n",
       "      <td>bool</td>\n",
       "      <td>object</td>\n",
       "      <td>int64</td>\n",
       "      <td>int64</td>\n",
       "      <td>...</td>\n",
       "      <td>object</td>\n",
       "      <td>object</td>\n",
       "      <td>bool</td>\n",
       "      <td>object</td>\n",
       "      <td>object</td>\n",
       "      <td>object</td>\n",
       "      <td>object</td>\n",
       "      <td>object</td>\n",
       "      <td>object</td>\n",
       "      <td>object</td>\n",
       "    </tr>\n",
       "    <tr>\n",
       "      <th>null values (nb)</th>\n",
       "      <td>0</td>\n",
       "      <td>500</td>\n",
       "      <td>0</td>\n",
       "      <td>0</td>\n",
       "      <td>396</td>\n",
       "      <td>0</td>\n",
       "      <td>0</td>\n",
       "      <td>500</td>\n",
       "      <td>0</td>\n",
       "      <td>0</td>\n",
       "      <td>...</td>\n",
       "      <td>0</td>\n",
       "      <td>0</td>\n",
       "      <td>0</td>\n",
       "      <td>0</td>\n",
       "      <td>0</td>\n",
       "      <td>0</td>\n",
       "      <td>0</td>\n",
       "      <td>0</td>\n",
       "      <td>0</td>\n",
       "      <td>0</td>\n",
       "    </tr>\n",
       "  </tbody>\n",
       "</table>\n",
       "<p>2 rows × 23 columns</p>\n",
       "</div>"
      ],
      "text/plain": [
       "                  price sale_price available_quantity sold_quantity  \\\n",
       "column type       int64     object              int64         int64   \n",
       "null values (nb)      0        500                  0             0   \n",
       "\n",
       "                 original_price category_id use_thumbnail_id discounts  \\\n",
       "column type             float64      object             bool    object   \n",
       "null values (nb)            396           0                0       500   \n",
       "\n",
       "                 seller.id installments.quantity  ... address.city_id  \\\n",
       "column type          int64                 int64  ...          object   \n",
       "null values (nb)         0                     0  ...               0   \n",
       "\n",
       "                 address.city_name shipping.free_shipping  \\\n",
       "column type                 object                   bool   \n",
       "null values (nb)                 0                      0   \n",
       "\n",
       "                 shipping.logistic_type seller_address.country.id  \\\n",
       "column type                      object                    object   \n",
       "null values (nb)                      0                         0   \n",
       "\n",
       "                 seller_address.country.name seller_address.state.id  \\\n",
       "column type                           object                  object   \n",
       "null values (nb)                           0                       0   \n",
       "\n",
       "                 seller_address.state.name seller_address.city.id  \\\n",
       "column type                         object                 object   \n",
       "null values (nb)                         0                      0   \n",
       "\n",
       "                 seller_address.city.name  \n",
       "column type                        object  \n",
       "null values (nb)                        0  \n",
       "\n",
       "[2 rows x 23 columns]"
      ]
     },
     "metadata": {},
     "output_type": "display_data"
    }
   ],
   "source": [
    "#Mostrar tipo de datos de cada columna e indicar cantidad de nulos\n",
    "tab_info=pd.DataFrame(df_final_1.dtypes).T.rename(index={0:'column type'})\n",
    "tab_info=tab_info.append(pd.DataFrame(df_final_1.isnull().sum()).T.rename(index={0:'null values (nb)'}))\n",
    "display(tab_info)"
   ]
  },
  {
   "cell_type": "markdown",
   "id": "37167f36",
   "metadata": {},
   "source": [
    "Se eliminarán las columnas sale_price, discounts y original_price, dado que tienen mayor cantidad de nulos, lo cual no nos da información relevante."
   ]
  },
  {
   "cell_type": "code",
   "execution_count": 12,
   "id": "24d42927",
   "metadata": {},
   "outputs": [
    {
     "data": {
      "text/plain": [
       "(500, 20)"
      ]
     },
     "execution_count": 12,
     "metadata": {},
     "output_type": "execute_result"
    }
   ],
   "source": [
    "df_final_1 = df_final_1.drop(['sale_price','discounts','original_price'], axis=1)\n",
    "df_final_1.shape"
   ]
  },
  {
   "cell_type": "code",
   "execution_count": 13,
   "id": "e5772cfa",
   "metadata": {},
   "outputs": [
    {
     "name": "stdout",
     "output_type": "stream",
     "text": [
      "Dataframe dimensions: (500, 20)\n"
     ]
    }
   ],
   "source": [
    "#Eliminación de vacíos\n",
    "df_final_1.dropna(axis = 0, subset = ['seller.id'], inplace = True)\n",
    "print('Dataframe dimensions:', df_final_1.shape)"
   ]
  },
  {
   "cell_type": "code",
   "execution_count": 14,
   "id": "6b2b4d36",
   "metadata": {},
   "outputs": [
    {
     "data": {
      "text/plain": [
       "(500, 20)"
      ]
     },
     "execution_count": 14,
     "metadata": {},
     "output_type": "execute_result"
    }
   ],
   "source": [
    "#Verificar si existen duplicados y eliminarlos\n",
    "df_final_1.drop_duplicates(subset=None, keep='first', inplace=False, ignore_index=False)\n",
    "df_final_1.shape"
   ]
  },
  {
   "cell_type": "markdown",
   "id": "bdc920e8",
   "metadata": {},
   "source": [
    "# 03 - Exploratorios"
   ]
  },
  {
   "cell_type": "code",
   "execution_count": 15,
   "id": "ae594a23",
   "metadata": {},
   "outputs": [
    {
     "data": {
      "text/html": [
       "<div>\n",
       "<style scoped>\n",
       "    .dataframe tbody tr th:only-of-type {\n",
       "        vertical-align: middle;\n",
       "    }\n",
       "\n",
       "    .dataframe tbody tr th {\n",
       "        vertical-align: top;\n",
       "    }\n",
       "\n",
       "    .dataframe thead th {\n",
       "        text-align: right;\n",
       "    }\n",
       "</style>\n",
       "<table border=\"1\" class=\"dataframe\">\n",
       "  <thead>\n",
       "    <tr style=\"text-align: right;\">\n",
       "      <th></th>\n",
       "      <th>count</th>\n",
       "      <th>mean</th>\n",
       "      <th>std</th>\n",
       "      <th>min</th>\n",
       "      <th>25%</th>\n",
       "      <th>50%</th>\n",
       "      <th>75%</th>\n",
       "      <th>max</th>\n",
       "    </tr>\n",
       "  </thead>\n",
       "  <tbody>\n",
       "    <tr>\n",
       "      <th>price</th>\n",
       "      <td>500.0</td>\n",
       "      <td>1.045671e+06</td>\n",
       "      <td>1.558718e+06</td>\n",
       "      <td>5000.00</td>\n",
       "      <td>89900.000</td>\n",
       "      <td>593950.00</td>\n",
       "      <td>1.232422e+06</td>\n",
       "      <td>16599000.0</td>\n",
       "    </tr>\n",
       "    <tr>\n",
       "      <th>available_quantity</th>\n",
       "      <td>500.0</td>\n",
       "      <td>8.313400e+01</td>\n",
       "      <td>4.041936e+02</td>\n",
       "      <td>1.00</td>\n",
       "      <td>1.000</td>\n",
       "      <td>1.00</td>\n",
       "      <td>1.525000e+01</td>\n",
       "      <td>5000.0</td>\n",
       "    </tr>\n",
       "    <tr>\n",
       "      <th>sold_quantity</th>\n",
       "      <td>500.0</td>\n",
       "      <td>1.308120e+02</td>\n",
       "      <td>3.851158e+02</td>\n",
       "      <td>0.00</td>\n",
       "      <td>2.000</td>\n",
       "      <td>5.00</td>\n",
       "      <td>1.082500e+02</td>\n",
       "      <td>5000.0</td>\n",
       "    </tr>\n",
       "    <tr>\n",
       "      <th>installments.quantity</th>\n",
       "      <td>500.0</td>\n",
       "      <td>3.168000e+01</td>\n",
       "      <td>9.229733e+00</td>\n",
       "      <td>12.00</td>\n",
       "      <td>36.000</td>\n",
       "      <td>36.00</td>\n",
       "      <td>3.600000e+01</td>\n",
       "      <td>36.0</td>\n",
       "    </tr>\n",
       "    <tr>\n",
       "      <th>installments.amount</th>\n",
       "      <td>500.0</td>\n",
       "      <td>3.420750e+04</td>\n",
       "      <td>6.154152e+04</td>\n",
       "      <td>138.89</td>\n",
       "      <td>3332.015</td>\n",
       "      <td>17234.49</td>\n",
       "      <td>3.621250e+04</td>\n",
       "      <td>575825.0</td>\n",
       "    </tr>\n",
       "  </tbody>\n",
       "</table>\n",
       "</div>"
      ],
      "text/plain": [
       "                       count          mean           std      min        25%  \\\n",
       "price                  500.0  1.045671e+06  1.558718e+06  5000.00  89900.000   \n",
       "available_quantity     500.0  8.313400e+01  4.041936e+02     1.00      1.000   \n",
       "sold_quantity          500.0  1.308120e+02  3.851158e+02     0.00      2.000   \n",
       "installments.quantity  500.0  3.168000e+01  9.229733e+00    12.00     36.000   \n",
       "installments.amount    500.0  3.420750e+04  6.154152e+04   138.89   3332.015   \n",
       "\n",
       "                             50%           75%         max  \n",
       "price                  593950.00  1.232422e+06  16599000.0  \n",
       "available_quantity          1.00  1.525000e+01      5000.0  \n",
       "sold_quantity               5.00  1.082500e+02      5000.0  \n",
       "installments.quantity      36.00  3.600000e+01        36.0  \n",
       "installments.amount     17234.49  3.621250e+04    575825.0  "
      ]
     },
     "execution_count": 15,
     "metadata": {},
     "output_type": "execute_result"
    }
   ],
   "source": [
    "#Estadísticas descriptivas\n",
    "df_num = df_final_1.loc[:,['price', 'available_quantity', 'sold_quantity','installments.quantity', 'installments.amount']]\n",
    "df_num.describe().transpose()"
   ]
  },
  {
   "cell_type": "markdown",
   "id": "3e241dd4",
   "metadata": {},
   "source": [
    "Con estas descriptivas básicas podemos observar de cierta manera como es la distribución de estas variables numéricas, para tener una mejor perspectiva se construyen los gráficos."
   ]
  },
  {
   "cell_type": "code",
   "execution_count": 16,
   "id": "a8b34b3c",
   "metadata": {},
   "outputs": [
    {
     "data": {
      "image/png": "[encoded data removed]",
      "text/plain": [
       "<Figure size 720x720 with 4 Axes>"
      ]
     },
     "metadata": {
      "needs_background": "light"
     },
     "output_type": "display_data"
    }
   ],
   "source": [
    "#Distribución de las variables numéricas\n",
    "f, axes = plt.subplots(2, 2, figsize=(10, 10), sharex=True)\n",
    "for ax, feature in zip(axes.flat, df_num.columns):\n",
    "    sns.distplot(df_num[feature] , color=\"skyblue\", ax=ax)"
   ]
  },
  {
   "cell_type": "markdown",
   "id": "fa50e389",
   "metadata": {},
   "source": [
    "Observamos que de las variables numéricas, la variable price nos muestra una distribución sesgada a la derecha con concentración en valores pequeños desde el minimo que se encuentra en 4990 COP hasta la mediana que se encuentra en 554.450 COP, como estamos en la categoría de \"Celulares y Teléfonos\" como hipótesis tenemos que en esa categoría también ingresan los accesorios de los celulares, teniendo esos montos tan bajos. \n",
    "Para las otras variables, si se presenta una distribución, sin embargo, en el agrupamiento de las gráficas no permite visualizar adecuadamente el comportamiento."
   ]
  },
  {
   "cell_type": "code",
   "execution_count": 17,
   "id": "30aec560",
   "metadata": {},
   "outputs": [
    {
     "data": {
      "image/png": "[encoded data removed]",
      "text/plain": [
       "<Figure size 720x720 with 4 Axes>"
      ]
     },
     "metadata": {
      "needs_background": "light"
     },
     "output_type": "display_data"
    }
   ],
   "source": [
    "df_num_1 = df_final_1.loc[:,['available_quantity', 'sold_quantity','installments.quantity', 'installments.amount']]\n",
    "#Distribución de las variables numéricas\n",
    "f, axes = plt.subplots(2, 2, figsize=(10, 10), sharex=True)\n",
    "for ax, feature in zip(axes.flat, df_num_1.columns):\n",
    "    sns.distplot(df_num_1[feature] , color=\"skyblue\", ax=ax)"
   ]
  },
  {
   "cell_type": "markdown",
   "id": "1f8b828a",
   "metadata": {},
   "source": [
    "Para comprobar la hipótesis sobre la variable price, buscaremos el artículo con el precio minimo y observaremos el title y demás datos."
   ]
  },
  {
   "cell_type": "code",
   "execution_count": 18,
   "id": "2bff8061",
   "metadata": {},
   "outputs": [
    {
     "data": {
      "text/html": [
       "<div>\n",
       "<style scoped>\n",
       "    .dataframe tbody tr th:only-of-type {\n",
       "        vertical-align: middle;\n",
       "    }\n",
       "\n",
       "    .dataframe tbody tr th {\n",
       "        vertical-align: top;\n",
       "    }\n",
       "\n",
       "    .dataframe thead th {\n",
       "        text-align: right;\n",
       "    }\n",
       "</style>\n",
       "<table border=\"1\" class=\"dataframe\">\n",
       "  <thead>\n",
       "    <tr style=\"text-align: right;\">\n",
       "      <th></th>\n",
       "      <th>id</th>\n",
       "      <th>site_id</th>\n",
       "      <th>title</th>\n",
       "      <th>price</th>\n",
       "      <th>sale_price</th>\n",
       "      <th>currency_id</th>\n",
       "      <th>available_quantity</th>\n",
       "      <th>sold_quantity</th>\n",
       "      <th>buying_mode</th>\n",
       "      <th>listing_type_id</th>\n",
       "      <th>...</th>\n",
       "      <th>seller_address.zip_code</th>\n",
       "      <th>seller_address.country.id</th>\n",
       "      <th>seller_address.country.name</th>\n",
       "      <th>seller_address.state.id</th>\n",
       "      <th>seller_address.state.name</th>\n",
       "      <th>seller_address.city.id</th>\n",
       "      <th>seller_address.city.name</th>\n",
       "      <th>seller_address.latitude</th>\n",
       "      <th>seller_address.longitude</th>\n",
       "      <th>differential_pricing.id</th>\n",
       "    </tr>\n",
       "  </thead>\n",
       "  <tbody>\n",
       "    <tr>\n",
       "      <th>36</th>\n",
       "      <td>MCO593295410</td>\n",
       "      <td>MCO</td>\n",
       "      <td>Adaptador Convertidor Usb 3.0 Hembra Otg A Tip...</td>\n",
       "      <td>5000</td>\n",
       "      <td>None</td>\n",
       "      <td>COP</td>\n",
       "      <td>100</td>\n",
       "      <td>250</td>\n",
       "      <td>buy_it_now</td>\n",
       "      <td>gold_special</td>\n",
       "      <td>...</td>\n",
       "      <td></td>\n",
       "      <td>CO</td>\n",
       "      <td>Colombia</td>\n",
       "      <td>CO-ANT</td>\n",
       "      <td>Antioquia</td>\n",
       "      <td>TUNPQ01FRGRjNjc4</td>\n",
       "      <td>Medellín</td>\n",
       "      <td></td>\n",
       "      <td></td>\n",
       "      <td>NaN</td>\n",
       "    </tr>\n",
       "  </tbody>\n",
       "</table>\n",
       "<p>1 rows × 63 columns</p>\n",
       "</div>"
      ],
      "text/plain": [
       "              id site_id                                              title  \\\n",
       "36  MCO593295410     MCO  Adaptador Convertidor Usb 3.0 Hembra Otg A Tip...   \n",
       "\n",
       "    price sale_price currency_id  available_quantity  sold_quantity  \\\n",
       "36   5000       None         COP                 100            250   \n",
       "\n",
       "   buying_mode listing_type_id  ... seller_address.zip_code  \\\n",
       "36  buy_it_now    gold_special  ...                           \n",
       "\n",
       "   seller_address.country.id seller_address.country.name  \\\n",
       "36                        CO                    Colombia   \n",
       "\n",
       "   seller_address.state.id seller_address.state.name  seller_address.city.id  \\\n",
       "36                  CO-ANT                 Antioquia        TUNPQ01FRGRjNjc4   \n",
       "\n",
       "    seller_address.city.name seller_address.latitude seller_address.longitude  \\\n",
       "36                  Medellín                                                    \n",
       "\n",
       "   differential_pricing.id  \n",
       "36                     NaN  \n",
       "\n",
       "[1 rows x 63 columns]"
      ]
     },
     "execution_count": 18,
     "metadata": {},
     "output_type": "execute_result"
    }
   ],
   "source": [
    "price_min = df_final[df_final['price'] <= 5000]\n",
    "price_min"
   ]
  },
  {
   "cell_type": "markdown",
   "id": "a3849cdd",
   "metadata": {},
   "source": [
    "Efectivamente, corresponden a accesorios o piezas menores dentro de la categoría"
   ]
  },
  {
   "cell_type": "code",
   "execution_count": 19,
   "id": "0252cd88",
   "metadata": {},
   "outputs": [
    {
     "data": {
      "text/plain": [
       "<seaborn.axisgrid.PairGrid at 0x1e917934808>"
      ]
     },
     "execution_count": 19,
     "metadata": {},
     "output_type": "execute_result"
    },
    {
     "data": {
      "image/png": "[encoded data removed]",
      "text/plain": [
       "<Figure size 900x900 with 25 Axes>"
      ]
     },
     "metadata": {
      "needs_background": "light"
     },
     "output_type": "display_data"
    }
   ],
   "source": [
    "#Relación de las variables\n",
    "g = sns.PairGrid(df_num)\n",
    "g.map(sns.scatterplot)"
   ]
  },
  {
   "cell_type": "code",
   "execution_count": 20,
   "id": "7f558311",
   "metadata": {},
   "outputs": [
    {
     "data": {
      "text/plain": [
       "<AxesSubplot:>"
      ]
     },
     "execution_count": 20,
     "metadata": {},
     "output_type": "execute_result"
    },
    {
     "data": {
      "image/png": "[encoded data removed]",
      "text/plain": [
       "<Figure size 432x288 with 2 Axes>"
      ]
     },
     "metadata": {
      "needs_background": "light"
     },
     "output_type": "display_data"
    }
   ],
   "source": [
    "#Matriz de correlaciones\n",
    "sns.heatmap(df_num.corr())"
   ]
  },
  {
   "cell_type": "markdown",
   "id": "aa1c6681",
   "metadata": {},
   "source": [
    "En estas gráficas de correlaciones podemos decir que:\n",
    "\n",
    "-Bajas correlaciones (entre -0.2 y 0.4)\n",
    "available_quantity con el resto de variables\n",
    "sold_quantity con el resto de variables\n",
    "installments_quantity con el resto de variables\n",
    "installments_amount con el resto de variables, excepto price\n",
    "\n",
    "-Altas correlaciones (>0.4)\n",
    "installments_amount con price"
   ]
  },
  {
   "cell_type": "code",
   "execution_count": 21,
   "id": "c3c5a888",
   "metadata": {},
   "outputs": [
    {
     "data": {
      "text/html": [
       "<div>\n",
       "<style scoped>\n",
       "    .dataframe tbody tr th:only-of-type {\n",
       "        vertical-align: middle;\n",
       "    }\n",
       "\n",
       "    .dataframe tbody tr th {\n",
       "        vertical-align: top;\n",
       "    }\n",
       "\n",
       "    .dataframe thead th {\n",
       "        text-align: right;\n",
       "    }\n",
       "</style>\n",
       "<table border=\"1\" class=\"dataframe\">\n",
       "  <thead>\n",
       "    <tr style=\"text-align: right;\">\n",
       "      <th></th>\n",
       "      <th>seller.id</th>\n",
       "      <th>sold_quantity</th>\n",
       "      <th>price</th>\n",
       "      <th>available_quantity</th>\n",
       "      <th>avg_price_sold</th>\n",
       "      <th>rate_quan</th>\n",
       "    </tr>\n",
       "  </thead>\n",
       "  <tbody>\n",
       "    <tr>\n",
       "      <th>62</th>\n",
       "      <td>162681369</td>\n",
       "      <td>39</td>\n",
       "      <td>77023496</td>\n",
       "      <td>72</td>\n",
       "      <td>1.974961e+06</td>\n",
       "      <td>0.541667</td>\n",
       "    </tr>\n",
       "    <tr>\n",
       "      <th>168</th>\n",
       "      <td>1059924855</td>\n",
       "      <td>24</td>\n",
       "      <td>14190500</td>\n",
       "      <td>90</td>\n",
       "      <td>5.912708e+05</td>\n",
       "      <td>0.266667</td>\n",
       "    </tr>\n",
       "    <tr>\n",
       "      <th>109</th>\n",
       "      <td>406781619</td>\n",
       "      <td>17</td>\n",
       "      <td>17085899</td>\n",
       "      <td>22</td>\n",
       "      <td>1.005053e+06</td>\n",
       "      <td>0.772727</td>\n",
       "    </tr>\n",
       "    <tr>\n",
       "      <th>106</th>\n",
       "      <td>394887418</td>\n",
       "      <td>16</td>\n",
       "      <td>23110400</td>\n",
       "      <td>263</td>\n",
       "      <td>1.444400e+06</td>\n",
       "      <td>0.060837</td>\n",
       "    </tr>\n",
       "    <tr>\n",
       "      <th>148</th>\n",
       "      <td>689840781</td>\n",
       "      <td>15</td>\n",
       "      <td>36865593</td>\n",
       "      <td>24</td>\n",
       "      <td>2.457706e+06</td>\n",
       "      <td>0.625000</td>\n",
       "    </tr>\n",
       "    <tr>\n",
       "      <th>...</th>\n",
       "      <td>...</td>\n",
       "      <td>...</td>\n",
       "      <td>...</td>\n",
       "      <td>...</td>\n",
       "      <td>...</td>\n",
       "      <td>...</td>\n",
       "    </tr>\n",
       "    <tr>\n",
       "      <th>58</th>\n",
       "      <td>147458773</td>\n",
       "      <td>1</td>\n",
       "      <td>1584000</td>\n",
       "      <td>9</td>\n",
       "      <td>1.584000e+06</td>\n",
       "      <td>0.111111</td>\n",
       "    </tr>\n",
       "    <tr>\n",
       "      <th>57</th>\n",
       "      <td>146059566</td>\n",
       "      <td>1</td>\n",
       "      <td>700000</td>\n",
       "      <td>4</td>\n",
       "      <td>7.000000e+05</td>\n",
       "      <td>0.250000</td>\n",
       "    </tr>\n",
       "    <tr>\n",
       "      <th>55</th>\n",
       "      <td>142097904</td>\n",
       "      <td>1</td>\n",
       "      <td>139000</td>\n",
       "      <td>8</td>\n",
       "      <td>1.390000e+05</td>\n",
       "      <td>0.125000</td>\n",
       "    </tr>\n",
       "    <tr>\n",
       "      <th>52</th>\n",
       "      <td>135462891</td>\n",
       "      <td>1</td>\n",
       "      <td>117710</td>\n",
       "      <td>1</td>\n",
       "      <td>1.177100e+05</td>\n",
       "      <td>1.000000</td>\n",
       "    </tr>\n",
       "    <tr>\n",
       "      <th>173</th>\n",
       "      <td>1101183110</td>\n",
       "      <td>1</td>\n",
       "      <td>145000</td>\n",
       "      <td>36</td>\n",
       "      <td>1.450000e+05</td>\n",
       "      <td>0.027778</td>\n",
       "    </tr>\n",
       "  </tbody>\n",
       "</table>\n",
       "<p>174 rows × 6 columns</p>\n",
       "</div>"
      ],
      "text/plain": [
       "      seller.id  sold_quantity     price  available_quantity  avg_price_sold  \\\n",
       "62    162681369             39  77023496                  72    1.974961e+06   \n",
       "168  1059924855             24  14190500                  90    5.912708e+05   \n",
       "109   406781619             17  17085899                  22    1.005053e+06   \n",
       "106   394887418             16  23110400                 263    1.444400e+06   \n",
       "148   689840781             15  36865593                  24    2.457706e+06   \n",
       "..          ...            ...       ...                 ...             ...   \n",
       "58    147458773              1   1584000                   9    1.584000e+06   \n",
       "57    146059566              1    700000                   4    7.000000e+05   \n",
       "55    142097904              1    139000                   8    1.390000e+05   \n",
       "52    135462891              1    117710                   1    1.177100e+05   \n",
       "173  1101183110              1    145000                  36    1.450000e+05   \n",
       "\n",
       "     rate_quan  \n",
       "62    0.541667  \n",
       "168   0.266667  \n",
       "109   0.772727  \n",
       "106   0.060837  \n",
       "148   0.625000  \n",
       "..         ...  \n",
       "58    0.111111  \n",
       "57    0.250000  \n",
       "55    0.125000  \n",
       "52    1.000000  \n",
       "173   0.027778  \n",
       "\n",
       "[174 rows x 6 columns]"
      ]
     },
     "execution_count": 21,
     "metadata": {},
     "output_type": "execute_result"
    }
   ],
   "source": [
    "temp = pd.DataFrame(df_final_1.groupby(['seller.id']).agg({'sold_quantity':'count','price':'sum','available_quantity':'sum'}))\n",
    "temp = temp.reset_index()\n",
    "temp['avg_price_sold'] = temp['price']/temp['sold_quantity']\n",
    "temp['rate_quan'] = temp['sold_quantity']/temp['available_quantity']\n",
    "temp.sort_values(by=['sold_quantity'], inplace=True, ascending=False)\n",
    "temp"
   ]
  },
  {
   "cell_type": "code",
   "execution_count": 22,
   "id": "004a2d71",
   "metadata": {},
   "outputs": [
    {
     "data": {
      "text/html": [
       "<div>\n",
       "<style scoped>\n",
       "    .dataframe tbody tr th:only-of-type {\n",
       "        vertical-align: middle;\n",
       "    }\n",
       "\n",
       "    .dataframe tbody tr th {\n",
       "        vertical-align: top;\n",
       "    }\n",
       "\n",
       "    .dataframe thead th {\n",
       "        text-align: right;\n",
       "    }\n",
       "</style>\n",
       "<table border=\"1\" class=\"dataframe\">\n",
       "  <thead>\n",
       "    <tr style=\"text-align: right;\">\n",
       "      <th></th>\n",
       "      <th>seller.id</th>\n",
       "      <th>sold_quantity</th>\n",
       "      <th>price</th>\n",
       "      <th>available_quantity</th>\n",
       "      <th>avg_price_sold</th>\n",
       "      <th>rate_quan</th>\n",
       "    </tr>\n",
       "  </thead>\n",
       "  <tbody>\n",
       "    <tr>\n",
       "      <th>62</th>\n",
       "      <td>162681369</td>\n",
       "      <td>39</td>\n",
       "      <td>77023496</td>\n",
       "      <td>72</td>\n",
       "      <td>1.974961e+06</td>\n",
       "      <td>0.541667</td>\n",
       "    </tr>\n",
       "    <tr>\n",
       "      <th>168</th>\n",
       "      <td>1059924855</td>\n",
       "      <td>24</td>\n",
       "      <td>14190500</td>\n",
       "      <td>90</td>\n",
       "      <td>5.912708e+05</td>\n",
       "      <td>0.266667</td>\n",
       "    </tr>\n",
       "    <tr>\n",
       "      <th>109</th>\n",
       "      <td>406781619</td>\n",
       "      <td>17</td>\n",
       "      <td>17085899</td>\n",
       "      <td>22</td>\n",
       "      <td>1.005053e+06</td>\n",
       "      <td>0.772727</td>\n",
       "    </tr>\n",
       "    <tr>\n",
       "      <th>106</th>\n",
       "      <td>394887418</td>\n",
       "      <td>16</td>\n",
       "      <td>23110400</td>\n",
       "      <td>263</td>\n",
       "      <td>1.444400e+06</td>\n",
       "      <td>0.060837</td>\n",
       "    </tr>\n",
       "    <tr>\n",
       "      <th>148</th>\n",
       "      <td>689840781</td>\n",
       "      <td>15</td>\n",
       "      <td>36865593</td>\n",
       "      <td>24</td>\n",
       "      <td>2.457706e+06</td>\n",
       "      <td>0.625000</td>\n",
       "    </tr>\n",
       "    <tr>\n",
       "      <th>...</th>\n",
       "      <td>...</td>\n",
       "      <td>...</td>\n",
       "      <td>...</td>\n",
       "      <td>...</td>\n",
       "      <td>...</td>\n",
       "      <td>...</td>\n",
       "    </tr>\n",
       "    <tr>\n",
       "      <th>43</th>\n",
       "      <td>113378453</td>\n",
       "      <td>2</td>\n",
       "      <td>2334800</td>\n",
       "      <td>2</td>\n",
       "      <td>1.167400e+06</td>\n",
       "      <td>1.000000</td>\n",
       "    </tr>\n",
       "    <tr>\n",
       "      <th>141</th>\n",
       "      <td>625814520</td>\n",
       "      <td>2</td>\n",
       "      <td>84800</td>\n",
       "      <td>2</td>\n",
       "      <td>4.240000e+04</td>\n",
       "      <td>1.000000</td>\n",
       "    </tr>\n",
       "    <tr>\n",
       "      <th>88</th>\n",
       "      <td>278971153</td>\n",
       "      <td>2</td>\n",
       "      <td>172000</td>\n",
       "      <td>12</td>\n",
       "      <td>8.600000e+04</td>\n",
       "      <td>0.166667</td>\n",
       "    </tr>\n",
       "    <tr>\n",
       "      <th>172</th>\n",
       "      <td>1095422460</td>\n",
       "      <td>2</td>\n",
       "      <td>1406900</td>\n",
       "      <td>250</td>\n",
       "      <td>7.034500e+05</td>\n",
       "      <td>0.008000</td>\n",
       "    </tr>\n",
       "    <tr>\n",
       "      <th>124</th>\n",
       "      <td>494573292</td>\n",
       "      <td>2</td>\n",
       "      <td>13980</td>\n",
       "      <td>500</td>\n",
       "      <td>6.990000e+03</td>\n",
       "      <td>0.004000</td>\n",
       "    </tr>\n",
       "  </tbody>\n",
       "</table>\n",
       "<p>80 rows × 6 columns</p>\n",
       "</div>"
      ],
      "text/plain": [
       "      seller.id  sold_quantity     price  available_quantity  avg_price_sold  \\\n",
       "62    162681369             39  77023496                  72    1.974961e+06   \n",
       "168  1059924855             24  14190500                  90    5.912708e+05   \n",
       "109   406781619             17  17085899                  22    1.005053e+06   \n",
       "106   394887418             16  23110400                 263    1.444400e+06   \n",
       "148   689840781             15  36865593                  24    2.457706e+06   \n",
       "..          ...            ...       ...                 ...             ...   \n",
       "43    113378453              2   2334800                   2    1.167400e+06   \n",
       "141   625814520              2     84800                   2    4.240000e+04   \n",
       "88    278971153              2    172000                  12    8.600000e+04   \n",
       "172  1095422460              2   1406900                 250    7.034500e+05   \n",
       "124   494573292              2     13980                 500    6.990000e+03   \n",
       "\n",
       "     rate_quan  \n",
       "62    0.541667  \n",
       "168   0.266667  \n",
       "109   0.772727  \n",
       "106   0.060837  \n",
       "148   0.625000  \n",
       "..         ...  \n",
       "43    1.000000  \n",
       "141   1.000000  \n",
       "88    0.166667  \n",
       "172   0.008000  \n",
       "124   0.004000  \n",
       "\n",
       "[80 rows x 6 columns]"
      ]
     },
     "execution_count": 22,
     "metadata": {},
     "output_type": "execute_result"
    }
   ],
   "source": [
    "tmp_1 = temp[temp['sold_quantity'] > 1]\n",
    "tmp_1"
   ]
  },
  {
   "cell_type": "markdown",
   "id": "704c1eac",
   "metadata": {},
   "source": [
    "En esta tabla podemos observar por vendedor, cómo es su comportamiento tanto en precio promedio vendido y en las unidades que posee, viendo que existen apenas un 45% (79/173) de los vendedores con más de 1 artículo vendido. Así mismo, de ese subgrupo de vendedores la distribución de la tasa de cantidades vendidas/cantidades disponibles se observa que, existen vendedores donde tienen mucho stock y viceversa."
   ]
  },
  {
   "cell_type": "code",
   "execution_count": 23,
   "id": "a12ad754",
   "metadata": {},
   "outputs": [
    {
     "data": {
      "text/plain": [
       "<AxesSubplot:xlabel='rate_quan', ylabel='Density'>"
      ]
     },
     "execution_count": 23,
     "metadata": {},
     "output_type": "execute_result"
    },
    {
     "data": {
      "image/png": "[encoded data removed]",
      "text/plain": [
       "<Figure size 432x288 with 1 Axes>"
      ]
     },
     "metadata": {
      "needs_background": "light"
     },
     "output_type": "display_data"
    }
   ],
   "source": [
    "sns.distplot(tmp_1['rate_quan'] , color=\"skyblue\")"
   ]
  },
  {
   "cell_type": "code",
   "execution_count": 24,
   "id": "be766f97",
   "metadata": {},
   "outputs": [
    {
     "data": {
      "text/html": [
       "<div>\n",
       "<style scoped>\n",
       "    .dataframe tbody tr th:only-of-type {\n",
       "        vertical-align: middle;\n",
       "    }\n",
       "\n",
       "    .dataframe tbody tr th {\n",
       "        vertical-align: top;\n",
       "    }\n",
       "\n",
       "    .dataframe thead th {\n",
       "        text-align: right;\n",
       "    }\n",
       "</style>\n",
       "<table border=\"1\" class=\"dataframe\">\n",
       "  <thead>\n",
       "    <tr style=\"text-align: right;\">\n",
       "      <th></th>\n",
       "      <th>seller.id</th>\n",
       "    </tr>\n",
       "    <tr>\n",
       "      <th>address.state_name</th>\n",
       "      <th></th>\n",
       "    </tr>\n",
       "  </thead>\n",
       "  <tbody>\n",
       "    <tr>\n",
       "      <th>Bogotá D.C.</th>\n",
       "      <td>112</td>\n",
       "    </tr>\n",
       "    <tr>\n",
       "      <th>Antioquia</th>\n",
       "      <td>26</td>\n",
       "    </tr>\n",
       "    <tr>\n",
       "      <th>Cundinamarca</th>\n",
       "      <td>11</td>\n",
       "    </tr>\n",
       "    <tr>\n",
       "      <th>Valle Del Cauca</th>\n",
       "      <td>6</td>\n",
       "    </tr>\n",
       "    <tr>\n",
       "      <th>Atlantico</th>\n",
       "      <td>5</td>\n",
       "    </tr>\n",
       "    <tr>\n",
       "      <th>Santander</th>\n",
       "      <td>5</td>\n",
       "    </tr>\n",
       "    <tr>\n",
       "      <th>Risaralda</th>\n",
       "      <td>3</td>\n",
       "    </tr>\n",
       "    <tr>\n",
       "      <th>Boyaca</th>\n",
       "      <td>1</td>\n",
       "    </tr>\n",
       "    <tr>\n",
       "      <th>Guangdong</th>\n",
       "      <td>1</td>\n",
       "    </tr>\n",
       "    <tr>\n",
       "      <th>Magdalena</th>\n",
       "      <td>1</td>\n",
       "    </tr>\n",
       "    <tr>\n",
       "      <th>Nariño</th>\n",
       "      <td>1</td>\n",
       "    </tr>\n",
       "    <tr>\n",
       "      <th>Norte De Santander</th>\n",
       "      <td>1</td>\n",
       "    </tr>\n",
       "    <tr>\n",
       "      <th>Tolima</th>\n",
       "      <td>1</td>\n",
       "    </tr>\n",
       "  </tbody>\n",
       "</table>\n",
       "</div>"
      ],
      "text/plain": [
       "                    seller.id\n",
       "address.state_name           \n",
       "Bogotá D.C.               112\n",
       "Antioquia                  26\n",
       "Cundinamarca               11\n",
       "Valle Del Cauca             6\n",
       "Atlantico                   5\n",
       "Santander                   5\n",
       "Risaralda                   3\n",
       "Boyaca                      1\n",
       "Guangdong                   1\n",
       "Magdalena                   1\n",
       "Nariño                      1\n",
       "Norte De Santander          1\n",
       "Tolima                      1"
      ]
     },
     "execution_count": 24,
     "metadata": {},
     "output_type": "execute_result"
    }
   ],
   "source": [
    "temp_2 = pd.DataFrame(df_final_1.groupby('address.state_name')['seller.id'].nunique())\n",
    "temp_2.sort_values(by=['seller.id'], inplace=True, ascending=False)\n",
    "temp_2"
   ]
  },
  {
   "cell_type": "code",
   "execution_count": 25,
   "id": "8d7a3c1c",
   "metadata": {},
   "outputs": [
    {
     "data": {
      "text/html": [
       "<div>\n",
       "<style scoped>\n",
       "    .dataframe tbody tr th:only-of-type {\n",
       "        vertical-align: middle;\n",
       "    }\n",
       "\n",
       "    .dataframe tbody tr th {\n",
       "        vertical-align: top;\n",
       "    }\n",
       "\n",
       "    .dataframe thead th {\n",
       "        text-align: right;\n",
       "    }\n",
       "</style>\n",
       "<table border=\"1\" class=\"dataframe\">\n",
       "  <thead>\n",
       "    <tr style=\"text-align: right;\">\n",
       "      <th></th>\n",
       "      <th>seller.id</th>\n",
       "    </tr>\n",
       "    <tr>\n",
       "      <th>seller_address.state.name</th>\n",
       "      <th></th>\n",
       "    </tr>\n",
       "  </thead>\n",
       "  <tbody>\n",
       "    <tr>\n",
       "      <th>Bogotá D.C.</th>\n",
       "      <td>112</td>\n",
       "    </tr>\n",
       "    <tr>\n",
       "      <th>Antioquia</th>\n",
       "      <td>26</td>\n",
       "    </tr>\n",
       "    <tr>\n",
       "      <th>Cundinamarca</th>\n",
       "      <td>11</td>\n",
       "    </tr>\n",
       "    <tr>\n",
       "      <th>Valle Del Cauca</th>\n",
       "      <td>6</td>\n",
       "    </tr>\n",
       "    <tr>\n",
       "      <th>Atlantico</th>\n",
       "      <td>5</td>\n",
       "    </tr>\n",
       "    <tr>\n",
       "      <th>Santander</th>\n",
       "      <td>5</td>\n",
       "    </tr>\n",
       "    <tr>\n",
       "      <th>Risaralda</th>\n",
       "      <td>3</td>\n",
       "    </tr>\n",
       "    <tr>\n",
       "      <th>Boyaca</th>\n",
       "      <td>1</td>\n",
       "    </tr>\n",
       "    <tr>\n",
       "      <th>Guangdong</th>\n",
       "      <td>1</td>\n",
       "    </tr>\n",
       "    <tr>\n",
       "      <th>Magdalena</th>\n",
       "      <td>1</td>\n",
       "    </tr>\n",
       "    <tr>\n",
       "      <th>Nariño</th>\n",
       "      <td>1</td>\n",
       "    </tr>\n",
       "    <tr>\n",
       "      <th>Norte De Santander</th>\n",
       "      <td>1</td>\n",
       "    </tr>\n",
       "    <tr>\n",
       "      <th>Tolima</th>\n",
       "      <td>1</td>\n",
       "    </tr>\n",
       "  </tbody>\n",
       "</table>\n",
       "</div>"
      ],
      "text/plain": [
       "                           seller.id\n",
       "seller_address.state.name           \n",
       "Bogotá D.C.                      112\n",
       "Antioquia                         26\n",
       "Cundinamarca                      11\n",
       "Valle Del Cauca                    6\n",
       "Atlantico                          5\n",
       "Santander                          5\n",
       "Risaralda                          3\n",
       "Boyaca                             1\n",
       "Guangdong                          1\n",
       "Magdalena                          1\n",
       "Nariño                             1\n",
       "Norte De Santander                 1\n",
       "Tolima                             1"
      ]
     },
     "execution_count": 25,
     "metadata": {},
     "output_type": "execute_result"
    }
   ],
   "source": [
    "temp_3 = pd.DataFrame(df_final_1.groupby('seller_address.state.name')['seller.id'].nunique())\n",
    "temp_3.sort_values(by=['seller.id'], inplace=True, ascending=False)\n",
    "temp_3"
   ]
  },
  {
   "cell_type": "code",
   "execution_count": 26,
   "id": "c946b29d",
   "metadata": {},
   "outputs": [
    {
     "data": {
      "text/plain": [
       "174"
      ]
     },
     "execution_count": 26,
     "metadata": {},
     "output_type": "execute_result"
    }
   ],
   "source": [
    "sum(temp_3['seller.id'])"
   ]
  },
  {
   "cell_type": "markdown",
   "id": "f75d671e",
   "metadata": {},
   "source": [
    "Observamos que las dos variables de estado tienen la misma distribución, por lo tanto, sólo usaremos una de ellas. Adicionalmente, Bogotá DC tiene el 64% (112/173) de los vendedores."
   ]
  },
  {
   "cell_type": "code",
   "execution_count": 27,
   "id": "39441c9b",
   "metadata": {},
   "outputs": [
    {
     "data": {
      "text/html": [
       "<div>\n",
       "<style scoped>\n",
       "    .dataframe tbody tr th:only-of-type {\n",
       "        vertical-align: middle;\n",
       "    }\n",
       "\n",
       "    .dataframe tbody tr th {\n",
       "        vertical-align: top;\n",
       "    }\n",
       "\n",
       "    .dataframe thead th {\n",
       "        text-align: right;\n",
       "    }\n",
       "</style>\n",
       "<table border=\"1\" class=\"dataframe\">\n",
       "  <thead>\n",
       "    <tr style=\"text-align: right;\">\n",
       "      <th></th>\n",
       "      <th>seller.id</th>\n",
       "    </tr>\n",
       "    <tr>\n",
       "      <th>category_id</th>\n",
       "      <th></th>\n",
       "    </tr>\n",
       "  </thead>\n",
       "  <tbody>\n",
       "    <tr>\n",
       "      <th>MCO1055</th>\n",
       "      <td>79</td>\n",
       "    </tr>\n",
       "    <tr>\n",
       "      <th>MCO5072</th>\n",
       "      <td>29</td>\n",
       "    </tr>\n",
       "    <tr>\n",
       "      <th>MCO118449</th>\n",
       "      <td>24</td>\n",
       "    </tr>\n",
       "    <tr>\n",
       "      <th>MCO7908</th>\n",
       "      <td>16</td>\n",
       "    </tr>\n",
       "    <tr>\n",
       "      <th>MCO169817</th>\n",
       "      <td>9</td>\n",
       "    </tr>\n",
       "    <tr>\n",
       "      <th>MCO39268</th>\n",
       "      <td>7</td>\n",
       "    </tr>\n",
       "    <tr>\n",
       "      <th>MCO434353</th>\n",
       "      <td>7</td>\n",
       "    </tr>\n",
       "    <tr>\n",
       "      <th>MCO2896</th>\n",
       "      <td>5</td>\n",
       "    </tr>\n",
       "    <tr>\n",
       "      <th>MCO4922</th>\n",
       "      <td>4</td>\n",
       "    </tr>\n",
       "    <tr>\n",
       "      <th>MCO417718</th>\n",
       "      <td>4</td>\n",
       "    </tr>\n",
       "    <tr>\n",
       "      <th>MCO167698</th>\n",
       "      <td>3</td>\n",
       "    </tr>\n",
       "    <tr>\n",
       "      <th>MCO6944</th>\n",
       "      <td>3</td>\n",
       "    </tr>\n",
       "    <tr>\n",
       "      <th>MCO12953</th>\n",
       "      <td>3</td>\n",
       "    </tr>\n",
       "    <tr>\n",
       "      <th>MCO442193</th>\n",
       "      <td>3</td>\n",
       "    </tr>\n",
       "    <tr>\n",
       "      <th>MCO181196</th>\n",
       "      <td>2</td>\n",
       "    </tr>\n",
       "    <tr>\n",
       "      <th>MCO10983</th>\n",
       "      <td>2</td>\n",
       "    </tr>\n",
       "    <tr>\n",
       "      <th>MCO429452</th>\n",
       "      <td>2</td>\n",
       "    </tr>\n",
       "    <tr>\n",
       "      <th>MCO442234</th>\n",
       "      <td>2</td>\n",
       "    </tr>\n",
       "    <tr>\n",
       "      <th>MCO5992</th>\n",
       "      <td>1</td>\n",
       "    </tr>\n",
       "    <tr>\n",
       "      <th>MCO417755</th>\n",
       "      <td>1</td>\n",
       "    </tr>\n",
       "    <tr>\n",
       "      <th>MCO442235</th>\n",
       "      <td>1</td>\n",
       "    </tr>\n",
       "    <tr>\n",
       "      <th>MCO39209</th>\n",
       "      <td>1</td>\n",
       "    </tr>\n",
       "    <tr>\n",
       "      <th>MCO39121</th>\n",
       "      <td>1</td>\n",
       "    </tr>\n",
       "    <tr>\n",
       "      <th>MCO3553</th>\n",
       "      <td>1</td>\n",
       "    </tr>\n",
       "    <tr>\n",
       "      <th>MCO407977</th>\n",
       "      <td>1</td>\n",
       "    </tr>\n",
       "  </tbody>\n",
       "</table>\n",
       "</div>"
      ],
      "text/plain": [
       "             seller.id\n",
       "category_id           \n",
       "MCO1055             79\n",
       "MCO5072             29\n",
       "MCO118449           24\n",
       "MCO7908             16\n",
       "MCO169817            9\n",
       "MCO39268             7\n",
       "MCO434353            7\n",
       "MCO2896              5\n",
       "MCO4922              4\n",
       "MCO417718            4\n",
       "MCO167698            3\n",
       "MCO6944              3\n",
       "MCO12953             3\n",
       "MCO442193            3\n",
       "MCO181196            2\n",
       "MCO10983             2\n",
       "MCO429452            2\n",
       "MCO442234            2\n",
       "MCO5992              1\n",
       "MCO417755            1\n",
       "MCO442235            1\n",
       "MCO39209             1\n",
       "MCO39121             1\n",
       "MCO3553              1\n",
       "MCO407977            1"
      ]
     },
     "execution_count": 27,
     "metadata": {},
     "output_type": "execute_result"
    }
   ],
   "source": [
    "temp_4 = pd.DataFrame(df_final_1.groupby('category_id')['seller.id'].nunique())\n",
    "temp_4.sort_values(by=['seller.id'], inplace=True, ascending=False)\n",
    "temp_4"
   ]
  },
  {
   "cell_type": "code",
   "execution_count": 28,
   "id": "197acdff",
   "metadata": {},
   "outputs": [
    {
     "data": {
      "text/html": [
       "<div>\n",
       "<style scoped>\n",
       "    .dataframe tbody tr th:only-of-type {\n",
       "        vertical-align: middle;\n",
       "    }\n",
       "\n",
       "    .dataframe tbody tr th {\n",
       "        vertical-align: top;\n",
       "    }\n",
       "\n",
       "    .dataframe thead th {\n",
       "        text-align: right;\n",
       "    }\n",
       "</style>\n",
       "<table border=\"1\" class=\"dataframe\">\n",
       "  <thead>\n",
       "    <tr style=\"text-align: right;\">\n",
       "      <th></th>\n",
       "      <th>seller.id</th>\n",
       "    </tr>\n",
       "    <tr>\n",
       "      <th>use_thumbnail_id</th>\n",
       "      <th></th>\n",
       "    </tr>\n",
       "  </thead>\n",
       "  <tbody>\n",
       "    <tr>\n",
       "      <th>False</th>\n",
       "      <td>115</td>\n",
       "    </tr>\n",
       "    <tr>\n",
       "      <th>True</th>\n",
       "      <td>99</td>\n",
       "    </tr>\n",
       "  </tbody>\n",
       "</table>\n",
       "</div>"
      ],
      "text/plain": [
       "                  seller.id\n",
       "use_thumbnail_id           \n",
       "False                   115\n",
       "True                     99"
      ]
     },
     "execution_count": 28,
     "metadata": {},
     "output_type": "execute_result"
    }
   ],
   "source": [
    "temp_5 = pd.DataFrame(df_final_1.groupby('use_thumbnail_id')['seller.id'].nunique())\n",
    "temp_5.sort_values(by=['seller.id'], inplace=True, ascending=False)\n",
    "temp_5"
   ]
  },
  {
   "cell_type": "code",
   "execution_count": 29,
   "id": "c0ff33d6",
   "metadata": {},
   "outputs": [
    {
     "data": {
      "text/html": [
       "<div>\n",
       "<style scoped>\n",
       "    .dataframe tbody tr th:only-of-type {\n",
       "        vertical-align: middle;\n",
       "    }\n",
       "\n",
       "    .dataframe tbody tr th {\n",
       "        vertical-align: top;\n",
       "    }\n",
       "\n",
       "    .dataframe thead th {\n",
       "        text-align: right;\n",
       "    }\n",
       "</style>\n",
       "<table border=\"1\" class=\"dataframe\">\n",
       "  <thead>\n",
       "    <tr style=\"text-align: right;\">\n",
       "      <th></th>\n",
       "      <th>seller.id</th>\n",
       "    </tr>\n",
       "    <tr>\n",
       "      <th>shipping.free_shipping</th>\n",
       "      <th></th>\n",
       "    </tr>\n",
       "  </thead>\n",
       "  <tbody>\n",
       "    <tr>\n",
       "      <th>True</th>\n",
       "      <td>124</td>\n",
       "    </tr>\n",
       "    <tr>\n",
       "      <th>False</th>\n",
       "      <td>61</td>\n",
       "    </tr>\n",
       "  </tbody>\n",
       "</table>\n",
       "</div>"
      ],
      "text/plain": [
       "                        seller.id\n",
       "shipping.free_shipping           \n",
       "True                          124\n",
       "False                          61"
      ]
     },
     "execution_count": 29,
     "metadata": {},
     "output_type": "execute_result"
    }
   ],
   "source": [
    "temp_6 = pd.DataFrame(df_final_1.groupby('shipping.free_shipping')['seller.id'].nunique())\n",
    "temp_6.sort_values(by=['seller.id'], inplace=True, ascending=False)\n",
    "temp_6"
   ]
  },
  {
   "cell_type": "code",
   "execution_count": 30,
   "id": "6bfaa2e5",
   "metadata": {},
   "outputs": [
    {
     "data": {
      "text/html": [
       "<div>\n",
       "<style scoped>\n",
       "    .dataframe tbody tr th:only-of-type {\n",
       "        vertical-align: middle;\n",
       "    }\n",
       "\n",
       "    .dataframe tbody tr th {\n",
       "        vertical-align: top;\n",
       "    }\n",
       "\n",
       "    .dataframe thead th {\n",
       "        text-align: right;\n",
       "    }\n",
       "</style>\n",
       "<table border=\"1\" class=\"dataframe\">\n",
       "  <thead>\n",
       "    <tr style=\"text-align: right;\">\n",
       "      <th></th>\n",
       "      <th>seller.id</th>\n",
       "    </tr>\n",
       "    <tr>\n",
       "      <th>shipping.logistic_type</th>\n",
       "      <th></th>\n",
       "    </tr>\n",
       "  </thead>\n",
       "  <tbody>\n",
       "    <tr>\n",
       "      <th>xd_drop_off</th>\n",
       "      <td>75</td>\n",
       "    </tr>\n",
       "    <tr>\n",
       "      <th>cross_docking</th>\n",
       "      <td>54</td>\n",
       "    </tr>\n",
       "    <tr>\n",
       "      <th>drop_off</th>\n",
       "      <td>29</td>\n",
       "    </tr>\n",
       "    <tr>\n",
       "      <th>fulfillment</th>\n",
       "      <td>24</td>\n",
       "    </tr>\n",
       "  </tbody>\n",
       "</table>\n",
       "</div>"
      ],
      "text/plain": [
       "                        seller.id\n",
       "shipping.logistic_type           \n",
       "xd_drop_off                    75\n",
       "cross_docking                  54\n",
       "drop_off                       29\n",
       "fulfillment                    24"
      ]
     },
     "execution_count": 30,
     "metadata": {},
     "output_type": "execute_result"
    }
   ],
   "source": [
    "temp_7 = pd.DataFrame(df_final_1.groupby('shipping.logistic_type')['seller.id'].nunique())\n",
    "temp_7.sort_values(by=['seller.id'], inplace=True, ascending=False)\n",
    "temp_7"
   ]
  },
  {
   "cell_type": "markdown",
   "id": "fc82f221",
   "metadata": {},
   "source": [
    "# 04 - Transformaciones"
   ]
  },
  {
   "cell_type": "markdown",
   "id": "98ca1c31",
   "metadata": {},
   "source": [
    "1) Selección de variables dejando:\n",
    "avg_price_sold, rate_quan, installments.quantity, installments.amount. El resto no serán consideradas por el poco valor que le pueden agregar al modelo.\n",
    "\n",
    "2) Transformaciones a realizar\n",
    "\n",
    "Normalizar las variables numéricas, de forma tal que, los clústers no sufran distorsionen por las escalas de valores de las variables. Para ello, utilizaremos una normalización en función de la media y la desviación estándar."
   ]
  },
  {
   "cell_type": "code",
   "execution_count": 31,
   "id": "a960ff9d",
   "metadata": {},
   "outputs": [
    {
     "data": {
      "text/html": [
       "<div>\n",
       "<style scoped>\n",
       "    .dataframe tbody tr th:only-of-type {\n",
       "        vertical-align: middle;\n",
       "    }\n",
       "\n",
       "    .dataframe tbody tr th {\n",
       "        vertical-align: top;\n",
       "    }\n",
       "\n",
       "    .dataframe thead th {\n",
       "        text-align: right;\n",
       "    }\n",
       "</style>\n",
       "<table border=\"1\" class=\"dataframe\">\n",
       "  <thead>\n",
       "    <tr style=\"text-align: right;\">\n",
       "      <th></th>\n",
       "      <th>seller.id</th>\n",
       "      <th>installments.amount</th>\n",
       "      <th>installments.quantity</th>\n",
       "      <th>avg_price_sold</th>\n",
       "      <th>rate_quan</th>\n",
       "    </tr>\n",
       "  </thead>\n",
       "  <tbody>\n",
       "    <tr>\n",
       "      <th>62</th>\n",
       "      <td>162681369</td>\n",
       "      <td>2290885.77</td>\n",
       "      <td>1356</td>\n",
       "      <td>1.974961e+06</td>\n",
       "      <td>0.541667</td>\n",
       "    </tr>\n",
       "    <tr>\n",
       "      <th>168</th>\n",
       "      <td>1059924855</td>\n",
       "      <td>394180.56</td>\n",
       "      <td>864</td>\n",
       "      <td>5.912708e+05</td>\n",
       "      <td>0.266667</td>\n",
       "    </tr>\n",
       "    <tr>\n",
       "      <th>109</th>\n",
       "      <td>406781619</td>\n",
       "      <td>530719.40</td>\n",
       "      <td>588</td>\n",
       "      <td>1.005053e+06</td>\n",
       "      <td>0.772727</td>\n",
       "    </tr>\n",
       "    <tr>\n",
       "      <th>106</th>\n",
       "      <td>394887418</td>\n",
       "      <td>873005.56</td>\n",
       "      <td>552</td>\n",
       "      <td>1.444400e+06</td>\n",
       "      <td>0.060837</td>\n",
       "    </tr>\n",
       "    <tr>\n",
       "      <th>148</th>\n",
       "      <td>689840781</td>\n",
       "      <td>1024044.26</td>\n",
       "      <td>540</td>\n",
       "      <td>2.457706e+06</td>\n",
       "      <td>0.625000</td>\n",
       "    </tr>\n",
       "    <tr>\n",
       "      <th>...</th>\n",
       "      <td>...</td>\n",
       "      <td>...</td>\n",
       "      <td>...</td>\n",
       "      <td>...</td>\n",
       "      <td>...</td>\n",
       "    </tr>\n",
       "    <tr>\n",
       "      <th>58</th>\n",
       "      <td>147458773</td>\n",
       "      <td>44000.00</td>\n",
       "      <td>36</td>\n",
       "      <td>1.584000e+06</td>\n",
       "      <td>0.111111</td>\n",
       "    </tr>\n",
       "    <tr>\n",
       "      <th>57</th>\n",
       "      <td>146059566</td>\n",
       "      <td>58333.33</td>\n",
       "      <td>12</td>\n",
       "      <td>7.000000e+05</td>\n",
       "      <td>0.250000</td>\n",
       "    </tr>\n",
       "    <tr>\n",
       "      <th>55</th>\n",
       "      <td>142097904</td>\n",
       "      <td>3861.11</td>\n",
       "      <td>36</td>\n",
       "      <td>1.390000e+05</td>\n",
       "      <td>0.125000</td>\n",
       "    </tr>\n",
       "    <tr>\n",
       "      <th>52</th>\n",
       "      <td>135462891</td>\n",
       "      <td>3269.72</td>\n",
       "      <td>36</td>\n",
       "      <td>1.177100e+05</td>\n",
       "      <td>1.000000</td>\n",
       "    </tr>\n",
       "    <tr>\n",
       "      <th>173</th>\n",
       "      <td>1101183110</td>\n",
       "      <td>4027.78</td>\n",
       "      <td>36</td>\n",
       "      <td>1.450000e+05</td>\n",
       "      <td>0.027778</td>\n",
       "    </tr>\n",
       "  </tbody>\n",
       "</table>\n",
       "<p>174 rows × 5 columns</p>\n",
       "</div>"
      ],
      "text/plain": [
       "      seller.id  installments.amount  installments.quantity  avg_price_sold  \\\n",
       "62    162681369           2290885.77                   1356    1.974961e+06   \n",
       "168  1059924855            394180.56                    864    5.912708e+05   \n",
       "109   406781619            530719.40                    588    1.005053e+06   \n",
       "106   394887418            873005.56                    552    1.444400e+06   \n",
       "148   689840781           1024044.26                    540    2.457706e+06   \n",
       "..          ...                  ...                    ...             ...   \n",
       "58    147458773             44000.00                     36    1.584000e+06   \n",
       "57    146059566             58333.33                     12    7.000000e+05   \n",
       "55    142097904              3861.11                     36    1.390000e+05   \n",
       "52    135462891              3269.72                     36    1.177100e+05   \n",
       "173  1101183110              4027.78                     36    1.450000e+05   \n",
       "\n",
       "     rate_quan  \n",
       "62    0.541667  \n",
       "168   0.266667  \n",
       "109   0.772727  \n",
       "106   0.060837  \n",
       "148   0.625000  \n",
       "..         ...  \n",
       "58    0.111111  \n",
       "57    0.250000  \n",
       "55    0.125000  \n",
       "52    1.000000  \n",
       "173   0.027778  \n",
       "\n",
       "[174 rows x 5 columns]"
      ]
     },
     "execution_count": 31,
     "metadata": {},
     "output_type": "execute_result"
    }
   ],
   "source": [
    "#Dataset para modelo\n",
    "data_modelo = pd.DataFrame(df_final_1.groupby(['seller.id']).agg({'sold_quantity':'count','price':'sum','available_quantity':'sum', 'installments.amount': 'sum', 'installments.quantity': 'sum'}))\n",
    "data_modelo = data_modelo.reset_index()\n",
    "data_modelo['avg_price_sold'] = data_modelo['price']/data_modelo['sold_quantity']\n",
    "data_modelo['rate_quan'] = data_modelo['sold_quantity']/data_modelo['available_quantity']\n",
    "data_modelo.sort_values(by=['sold_quantity'], inplace=True, ascending=False)\n",
    "data_modelo = data_modelo.drop(['sold_quantity','price','available_quantity'], axis=1)\n",
    "data_modelo"
   ]
  },
  {
   "cell_type": "code",
   "execution_count": 32,
   "id": "d5963229",
   "metadata": {},
   "outputs": [
    {
     "data": {
      "text/html": [
       "<div>\n",
       "<style scoped>\n",
       "    .dataframe tbody tr th:only-of-type {\n",
       "        vertical-align: middle;\n",
       "    }\n",
       "\n",
       "    .dataframe tbody tr th {\n",
       "        vertical-align: top;\n",
       "    }\n",
       "\n",
       "    .dataframe thead th {\n",
       "        text-align: right;\n",
       "    }\n",
       "</style>\n",
       "<table border=\"1\" class=\"dataframe\">\n",
       "  <thead>\n",
       "    <tr style=\"text-align: right;\">\n",
       "      <th></th>\n",
       "      <th>installments.amount</th>\n",
       "      <th>installments.quantity</th>\n",
       "      <th>avg_price_sold</th>\n",
       "      <th>rate_quan</th>\n",
       "    </tr>\n",
       "  </thead>\n",
       "  <tbody>\n",
       "    <tr>\n",
       "      <th>62</th>\n",
       "      <td>7.111573</td>\n",
       "      <td>8.265560</td>\n",
       "      <td>1.558996</td>\n",
       "      <td>0.284966</td>\n",
       "    </tr>\n",
       "    <tr>\n",
       "      <th>168</th>\n",
       "      <td>0.959685</td>\n",
       "      <td>5.050725</td>\n",
       "      <td>0.037714</td>\n",
       "      <td>-0.367282</td>\n",
       "    </tr>\n",
       "    <tr>\n",
       "      <th>109</th>\n",
       "      <td>1.402543</td>\n",
       "      <td>3.247281</td>\n",
       "      <td>0.492642</td>\n",
       "      <td>0.832997</td>\n",
       "    </tr>\n",
       "    <tr>\n",
       "      <th>106</th>\n",
       "      <td>2.512735</td>\n",
       "      <td>3.012049</td>\n",
       "      <td>0.975677</td>\n",
       "      <td>-0.855471</td>\n",
       "    </tr>\n",
       "    <tr>\n",
       "      <th>148</th>\n",
       "      <td>3.002623</td>\n",
       "      <td>2.933638</td>\n",
       "      <td>2.089744</td>\n",
       "      <td>0.482616</td>\n",
       "    </tr>\n",
       "    <tr>\n",
       "      <th>...</th>\n",
       "      <td>...</td>\n",
       "      <td>...</td>\n",
       "      <td>...</td>\n",
       "      <td>...</td>\n",
       "    </tr>\n",
       "    <tr>\n",
       "      <th>58</th>\n",
       "      <td>-0.176111</td>\n",
       "      <td>-0.359607</td>\n",
       "      <td>1.129158</td>\n",
       "      <td>-0.736230</td>\n",
       "    </tr>\n",
       "    <tr>\n",
       "      <th>57</th>\n",
       "      <td>-0.129622</td>\n",
       "      <td>-0.516429</td>\n",
       "      <td>0.157255</td>\n",
       "      <td>-0.406812</td>\n",
       "    </tr>\n",
       "    <tr>\n",
       "      <th>55</th>\n",
       "      <td>-0.306300</td>\n",
       "      <td>-0.359607</td>\n",
       "      <td>-0.459530</td>\n",
       "      <td>-0.703288</td>\n",
       "    </tr>\n",
       "    <tr>\n",
       "      <th>52</th>\n",
       "      <td>-0.308219</td>\n",
       "      <td>-0.359607</td>\n",
       "      <td>-0.482937</td>\n",
       "      <td>1.372045</td>\n",
       "    </tr>\n",
       "    <tr>\n",
       "      <th>173</th>\n",
       "      <td>-0.305760</td>\n",
       "      <td>-0.359607</td>\n",
       "      <td>-0.452933</td>\n",
       "      <td>-0.933880</td>\n",
       "    </tr>\n",
       "  </tbody>\n",
       "</table>\n",
       "<p>174 rows × 4 columns</p>\n",
       "</div>"
      ],
      "text/plain": [
       "     installments.amount  installments.quantity  avg_price_sold  rate_quan\n",
       "62              7.111573               8.265560        1.558996   0.284966\n",
       "168             0.959685               5.050725        0.037714  -0.367282\n",
       "109             1.402543               3.247281        0.492642   0.832997\n",
       "106             2.512735               3.012049        0.975677  -0.855471\n",
       "148             3.002623               2.933638        2.089744   0.482616\n",
       "..                   ...                    ...             ...        ...\n",
       "58             -0.176111              -0.359607        1.129158  -0.736230\n",
       "57             -0.129622              -0.516429        0.157255  -0.406812\n",
       "55             -0.306300              -0.359607       -0.459530  -0.703288\n",
       "52             -0.308219              -0.359607       -0.482937   1.372045\n",
       "173            -0.305760              -0.359607       -0.452933  -0.933880\n",
       "\n",
       "[174 rows x 4 columns]"
      ]
     },
     "execution_count": 32,
     "metadata": {},
     "output_type": "execute_result"
    }
   ],
   "source": [
    "#Normalización\n",
    "data_modelo_1 = data_modelo.drop(['seller.id'], axis=1)\n",
    "def mean_norm(df_input):\n",
    "    return df_input.apply(lambda x: (x-x.mean())/ x.std(), axis=0)\n",
    "\n",
    "data_modelo_norm = mean_norm(data_modelo_1)\n",
    "data_modelo_norm"
   ]
  },
  {
   "cell_type": "markdown",
   "id": "38569adb",
   "metadata": {},
   "source": [
    "# 05 - Modelo"
   ]
  },
  {
   "cell_type": "markdown",
   "id": "649fe4f0",
   "metadata": {},
   "source": [
    "El modelo que utilizaremos será K-means con distancia euclideana."
   ]
  },
  {
   "cell_type": "code",
   "execution_count": 33,
   "id": "89383d16",
   "metadata": {},
   "outputs": [
    {
     "name": "stdout",
     "output_type": "stream",
     "text": [
      "For n_clusters = 3 The average silhouette_score is : 0.5710375778696443\n",
      "For n_clusters = 4 The average silhouette_score is : 0.5788261146306435\n",
      "For n_clusters = 5 The average silhouette_score is : 0.5927544227217512\n",
      "For n_clusters = 6 The average silhouette_score is : 0.6087952291391605\n",
      "For n_clusters = 7 The average silhouette_score is : 0.5910326000827103\n",
      "For n_clusters = 8 The average silhouette_score is : 0.5056539040965515\n",
      "For n_clusters = 9 The average silhouette_score is : 0.5083440699666968\n"
     ]
    }
   ],
   "source": [
    "matrix = data_modelo_norm.to_numpy()\n",
    "for n_clusters in range(3,10):\n",
    "    kmeans = KMeans(init='k-means++', n_clusters = n_clusters, n_init=30)\n",
    "    kmeans.fit(matrix)\n",
    "    clusters = kmeans.predict(matrix)\n",
    "    silhouette_avg = silhouette_score(matrix, clusters)\n",
    "    print(\"For n_clusters =\", n_clusters, \"The average silhouette_score is :\", silhouette_avg)"
   ]
  },
  {
   "cell_type": "code",
   "execution_count": 34,
   "id": "7daa3647",
   "metadata": {},
   "outputs": [
    {
     "data": {
      "image/png": "[encoded data removed]",
      "text/plain": [
       "<Figure size 432x288 with 1 Axes>"
      ]
     },
     "metadata": {
      "needs_background": "light"
     },
     "output_type": "display_data"
    }
   ],
   "source": [
    "Nc = range(1, 20)\n",
    "kmeans = [KMeans(n_clusters=i) for i in Nc]\n",
    "kmeans\n",
    "score = [kmeans[i].fit(matrix).score(matrix) for i in range(len(kmeans))]\n",
    "score\n",
    "plt.plot(Nc,score)\n",
    "plt.xlabel('Number of Clusters')\n",
    "plt.ylabel('Score')\n",
    "plt.title('Elbow Curve')\n",
    "plt.show()"
   ]
  },
  {
   "cell_type": "markdown",
   "id": "0fda621a",
   "metadata": {},
   "source": [
    "Con estas dos metodologías (silhouette y la elbow curve) podremos escoger el número de clústers adecuado. \n",
    "Por el silhouette_score se sabe que es mejor cuando es 1 (https://runebook.dev/es/docs/scikit_learn/modules/generated/sklearn.metrics.silhouette_score#:~:text=El%20mejor%20valor%20es%201,en%20la%20Gu%C3%ADa%20del%20usuario%20), en este caso el más cercano a 1 son 5 clústers.\n",
    "Por la gráfica de la elbow curve ligeramente se observa una inflexión en 3.\n",
    "\n",
    "Dado que se tiene dudas en cual número de clústers escoger, probaremos ambas opciones y miraremos la cantidad de elementos que tendrían cada clúster."
   ]
  },
  {
   "cell_type": "code",
   "execution_count": 35,
   "id": "9e2b9cd4",
   "metadata": {},
   "outputs": [
    {
     "data": {
      "text/plain": [
       "0    102\n",
       "2     58\n",
       "1     14\n",
       "dtype: int64"
      ]
     },
     "execution_count": 35,
     "metadata": {},
     "output_type": "execute_result"
    }
   ],
   "source": [
    "#Clusters 3\n",
    "kmeans = KMeans(n_clusters=3).fit(matrix)\n",
    "clusters_3 = kmeans.predict(matrix)\n",
    "pd.Series(clusters_3).value_counts()"
   ]
  },
  {
   "cell_type": "code",
   "execution_count": 36,
   "id": "cc24ebd4",
   "metadata": {},
   "outputs": [
    {
     "data": {
      "text/plain": [
       "0    101\n",
       "1     57\n",
       "3     10\n",
       "4      4\n",
       "2      2\n",
       "dtype: int64"
      ]
     },
     "execution_count": 36,
     "metadata": {},
     "output_type": "execute_result"
    }
   ],
   "source": [
    "#Clusters 5\n",
    "kmeans = KMeans(n_clusters=5).fit(matrix)\n",
    "clusters_5 = kmeans.predict(matrix)\n",
    "pd.Series(clusters_5).value_counts()"
   ]
  },
  {
   "cell_type": "markdown",
   "id": "937e5f51",
   "metadata": {},
   "source": [
    "Cómo se observa es más conveniente escoger 3 clúster dado que al escoger 5, hay dos grupos con pocos elementos (posibles outliers), lo cual no nos proporcionará información certera del grupo.\n"
   ]
  },
  {
   "cell_type": "code",
   "execution_count": 37,
   "id": "36a870f8",
   "metadata": {},
   "outputs": [
    {
     "name": "stdout",
     "output_type": "stream",
     "text": [
      "[[-0.24128881 -0.19821846 -0.27775919 -0.71290313]\n",
      " [ 2.60235857  2.36796185  2.35329515 -0.06197412]\n",
      " [-0.20316267 -0.22342044 -0.0760866   1.30345018]]\n"
     ]
    }
   ],
   "source": [
    "#Centroides\n",
    "kmeans = KMeans(n_clusters=3).fit(matrix)\n",
    "clusters = kmeans.predict(matrix)\n",
    "pd.Series(clusters).value_counts()\n",
    "\n",
    "centroids = kmeans.cluster_centers_\n",
    "print(centroids)"
   ]
  },
  {
   "cell_type": "markdown",
   "id": "9bd13d1c",
   "metadata": {},
   "source": [
    "Descriptivos de los clusters de acuerdo con los centroides\n",
    "\n",
    "- Gruopo 0 (Sellers Bronce): Sellers con bajos installments en cantidad y montos, bajo promedio de venta y bajas tasas de vendido/disponible Corresponde al 58.3% de los sellers (101/173).\n",
    "\n",
    "- Grupo 1 (Sellers Plata): Sellers installments amount medio, bajo installments quantity, promedio de venta intermedio y rate quant alto. Corresponde al 7.5% de los sellers (13/173).\n",
    "\n",
    "- Grupo 2 (Sellers Oro): Sellers con mayores valores en installments amount, quantity y precio promedio vendido, mientras que la rate es baja. Corresponde al 34.1% de los sellers (59/173).\n",
    "\n",
    "El nombre de los grupos basados en el precio promedio."
   ]
  },
  {
   "cell_type": "code",
   "execution_count": 38,
   "id": "45241f82",
   "metadata": {},
   "outputs": [
    {
     "data": {
      "text/html": [
       "<div>\n",
       "<style scoped>\n",
       "    .dataframe tbody tr th:only-of-type {\n",
       "        vertical-align: middle;\n",
       "    }\n",
       "\n",
       "    .dataframe tbody tr th {\n",
       "        vertical-align: top;\n",
       "    }\n",
       "\n",
       "    .dataframe thead th {\n",
       "        text-align: right;\n",
       "    }\n",
       "</style>\n",
       "<table border=\"1\" class=\"dataframe\">\n",
       "  <thead>\n",
       "    <tr style=\"text-align: right;\">\n",
       "      <th></th>\n",
       "      <th>seller.id</th>\n",
       "      <th>installments.amount</th>\n",
       "      <th>installments.quantity</th>\n",
       "      <th>avg_price_sold</th>\n",
       "      <th>rate_quan</th>\n",
       "      <th>num_cluster</th>\n",
       "    </tr>\n",
       "  </thead>\n",
       "  <tbody>\n",
       "    <tr>\n",
       "      <th>62</th>\n",
       "      <td>162681369</td>\n",
       "      <td>2290885.77</td>\n",
       "      <td>1356</td>\n",
       "      <td>1.974961e+06</td>\n",
       "      <td>0.541667</td>\n",
       "      <td>1</td>\n",
       "    </tr>\n",
       "    <tr>\n",
       "      <th>168</th>\n",
       "      <td>1059924855</td>\n",
       "      <td>394180.56</td>\n",
       "      <td>864</td>\n",
       "      <td>5.912708e+05</td>\n",
       "      <td>0.266667</td>\n",
       "      <td>1</td>\n",
       "    </tr>\n",
       "    <tr>\n",
       "      <th>109</th>\n",
       "      <td>406781619</td>\n",
       "      <td>530719.40</td>\n",
       "      <td>588</td>\n",
       "      <td>1.005053e+06</td>\n",
       "      <td>0.772727</td>\n",
       "      <td>1</td>\n",
       "    </tr>\n",
       "    <tr>\n",
       "      <th>106</th>\n",
       "      <td>394887418</td>\n",
       "      <td>873005.56</td>\n",
       "      <td>552</td>\n",
       "      <td>1.444400e+06</td>\n",
       "      <td>0.060837</td>\n",
       "      <td>1</td>\n",
       "    </tr>\n",
       "    <tr>\n",
       "      <th>148</th>\n",
       "      <td>689840781</td>\n",
       "      <td>1024044.26</td>\n",
       "      <td>540</td>\n",
       "      <td>2.457706e+06</td>\n",
       "      <td>0.625000</td>\n",
       "      <td>1</td>\n",
       "    </tr>\n",
       "    <tr>\n",
       "      <th>...</th>\n",
       "      <td>...</td>\n",
       "      <td>...</td>\n",
       "      <td>...</td>\n",
       "      <td>...</td>\n",
       "      <td>...</td>\n",
       "      <td>...</td>\n",
       "    </tr>\n",
       "    <tr>\n",
       "      <th>58</th>\n",
       "      <td>147458773</td>\n",
       "      <td>44000.00</td>\n",
       "      <td>36</td>\n",
       "      <td>1.584000e+06</td>\n",
       "      <td>0.111111</td>\n",
       "      <td>0</td>\n",
       "    </tr>\n",
       "    <tr>\n",
       "      <th>57</th>\n",
       "      <td>146059566</td>\n",
       "      <td>58333.33</td>\n",
       "      <td>12</td>\n",
       "      <td>7.000000e+05</td>\n",
       "      <td>0.250000</td>\n",
       "      <td>0</td>\n",
       "    </tr>\n",
       "    <tr>\n",
       "      <th>55</th>\n",
       "      <td>142097904</td>\n",
       "      <td>3861.11</td>\n",
       "      <td>36</td>\n",
       "      <td>1.390000e+05</td>\n",
       "      <td>0.125000</td>\n",
       "      <td>0</td>\n",
       "    </tr>\n",
       "    <tr>\n",
       "      <th>52</th>\n",
       "      <td>135462891</td>\n",
       "      <td>3269.72</td>\n",
       "      <td>36</td>\n",
       "      <td>1.177100e+05</td>\n",
       "      <td>1.000000</td>\n",
       "      <td>2</td>\n",
       "    </tr>\n",
       "    <tr>\n",
       "      <th>173</th>\n",
       "      <td>1101183110</td>\n",
       "      <td>4027.78</td>\n",
       "      <td>36</td>\n",
       "      <td>1.450000e+05</td>\n",
       "      <td>0.027778</td>\n",
       "      <td>0</td>\n",
       "    </tr>\n",
       "  </tbody>\n",
       "</table>\n",
       "<p>174 rows × 6 columns</p>\n",
       "</div>"
      ],
      "text/plain": [
       "      seller.id  installments.amount  installments.quantity  avg_price_sold  \\\n",
       "62    162681369           2290885.77                   1356    1.974961e+06   \n",
       "168  1059924855            394180.56                    864    5.912708e+05   \n",
       "109   406781619            530719.40                    588    1.005053e+06   \n",
       "106   394887418            873005.56                    552    1.444400e+06   \n",
       "148   689840781           1024044.26                    540    2.457706e+06   \n",
       "..          ...                  ...                    ...             ...   \n",
       "58    147458773             44000.00                     36    1.584000e+06   \n",
       "57    146059566             58333.33                     12    7.000000e+05   \n",
       "55    142097904              3861.11                     36    1.390000e+05   \n",
       "52    135462891              3269.72                     36    1.177100e+05   \n",
       "173  1101183110              4027.78                     36    1.450000e+05   \n",
       "\n",
       "     rate_quan  num_cluster  \n",
       "62    0.541667            1  \n",
       "168   0.266667            1  \n",
       "109   0.772727            1  \n",
       "106   0.060837            1  \n",
       "148   0.625000            1  \n",
       "..         ...          ...  \n",
       "58    0.111111            0  \n",
       "57    0.250000            0  \n",
       "55    0.125000            0  \n",
       "52    1.000000            2  \n",
       "173   0.027778            0  \n",
       "\n",
       "[174 rows x 6 columns]"
      ]
     },
     "execution_count": 38,
     "metadata": {},
     "output_type": "execute_result"
    }
   ],
   "source": [
    "#Etiquetado del grupo para cada registro\n",
    "num_cluster = kmeans.predict(matrix)\n",
    "num_cluster\n",
    "data_modelo['num_cluster'] = num_cluster\n",
    "data_modelo"
   ]
  },
  {
   "cell_type": "markdown",
   "id": "c6ec58ea",
   "metadata": {},
   "source": [
    "# 07 - Conclusiones"
   ]
  },
  {
   "cell_type": "markdown",
   "id": "064e3c0a",
   "metadata": {},
   "source": [
    "Con la técnica utilizada de escoger las variables más relevantes, que en este caso fueron 4, logramos obtener resultados coherentes para la cantidad de datos que se tenian.\n",
    "\n",
    "Adicionalmente, la solución planteada da una clasificación de los sellers de forma tal que, el equipo comercial pueda generar estrategias en función del grupo, como por ejemplo: incrementar ventas con el grupo de vendedores que más precio promedio de venta tiene y realizar incentivos, así como también hacer estrategias por la rotación de los artículos, etc."
   ]
  },
  {
   "cell_type": "markdown",
   "id": "677bf8b2",
   "metadata": {},
   "source": [
    "# 08 - Siguientes Pasos"
   ]
  },
  {
   "cell_type": "markdown",
   "id": "0ab45b0d",
   "metadata": {},
   "source": [
    "1) Probar con otras variables.\n",
    "2) Agregar iteraciones con otros modelos de clusterización.\n",
    "3) Aplicar a otras categorías.\n",
    "4) Aplicar a otros países."
   ]
  }
 ],
 "metadata": {
  "kernelspec": {
   "display_name": "Python 3",
   "language": "python",
   "name": "python3"
  },
  "language_info": {
   "codemirror_mode": {
    "name": "ipython",
    "version": 3
   },
   "file_extension": ".py",
   "mimetype": "text/x-python",
   "name": "python",
   "nbconvert_exporter": "python",
   "pygments_lexer": "ipython3",
   "version": "3.7.10"
  }
 },
 "nbformat": 4,
 "nbformat_minor": 5
}
